{
 "cells": [
  {
   "cell_type": "markdown",
   "metadata": {},
   "source": [
    "# Exercise 2: Lists"
   ]
  },
  {
   "cell_type": "markdown",
   "metadata": {},
   "source": [
    "1. Create a list with seven numbers.\n",
    "2. Create another list in reverse order, ignoring the first two elements.\n",
    "3. Now use the last list, and check for the number that appears third in the list. (if it's a seven, print 'boom' ;-)  )"
   ]
  },
  {
   "cell_type": "code",
   "execution_count": 2,
   "metadata": {},
   "outputs": [
    {
     "name": "stdout",
     "output_type": "stream",
     "text": [
      "[1, 2, 3, 4, 5, 6, 7]\n",
      "[7, 6, 5, 4, 3]\n",
      "5\n"
     ]
    }
   ],
   "source": [
    "list = [1,2,3,4,5,6,7]\n",
    "print(list)\n",
    "reverse = list[:1:-1]\n",
    "print(reverse)\n",
    "print(reverse[2])\n",
    "if reverse[2]==7:\n",
    "    print(\"Boom\")"
   ]
  },
  {
   "cell_type": "markdown",
   "metadata": {},
   "source": [
    "# Exercise 3: Fibonacci sequence"
   ]
  },
  {
   "cell_type": "markdown",
   "metadata": {},
   "source": [
    "Write a function that displays the n ﬁrst terms of the Fibonacci sequence, deﬁned by: \n",
    "    - u_0 = 1; u_1 = 1 \n",
    "    - u_(n+2) = u_(n+1) + u_n"
   ]
  },
  {
   "cell_type": "code",
   "execution_count": 121,
   "metadata": {
    "collapsed": true
   },
   "outputs": [],
   "source": [
    "#iterative approach\n",
    "def Fibonnaci(n):\n",
    "    if (not isinstance(n, int) or n==0):\n",
    "        print(\"Input must be an an integer equal or greater than 1\")\n",
    "        return\n",
    "    print(1)\n",
    "    if n==1:\n",
    "        return\n",
    "    print(1)\n",
    "    if n==2:\n",
    "        return\n",
    "    previous, current = 1, 1\n",
    "    while n>2:\n",
    "        previous, current = current, previous+current\n",
    "        print(current)\n",
    "        n -=1\n",
    "    return"
   ]
  },
  {
   "cell_type": "code",
   "execution_count": 122,
   "metadata": {},
   "outputs": [
    {
     "name": "stdout",
     "output_type": "stream",
     "text": [
      "1\n",
      "1\n",
      "2\n",
      "3\n",
      "5\n"
     ]
    }
   ],
   "source": [
    "Fibonnaci(5)"
   ]
  },
  {
   "cell_type": "code",
   "execution_count": 123,
   "metadata": {},
   "outputs": [],
   "source": [
    "#recursive approach\n",
    "def Fibonnaci2(n):\n",
    "    if (not isinstance(n, int) or n==0):\n",
    "        print(\"Input must be an an integer equal or greater than 1\")\n",
    "        return\n",
    "    print(1)\n",
    "    if n==1:\n",
    "        return\n",
    "    print(1)\n",
    "    if n==2:\n",
    "        return\n",
    "    Fibonnaci2aux(1, 1, n)\n",
    "def Fibonnaci2aux(a, b, n):\n",
    "    if n==2:\n",
    "        return\n",
    "    print(a+b)\n",
    "    Fibonnaci2aux(b, a+b, n-1)"
   ]
  },
  {
   "cell_type": "code",
   "execution_count": 124,
   "metadata": {},
   "outputs": [
    {
     "name": "stdout",
     "output_type": "stream",
     "text": [
      "1\n",
      "1\n",
      "2\n",
      "3\n",
      "5\n"
     ]
    }
   ],
   "source": [
    "Fibonnaci2(5)"
   ]
  },
  {
   "cell_type": "code",
   "execution_count": null,
   "metadata": {
    "collapsed": true
   },
   "outputs": [],
   "source": []
  }
 ],
 "metadata": {
  "kernelspec": {
   "display_name": "Python 3",
   "language": "python",
   "name": "python3"
  },
  "language_info": {
   "codemirror_mode": {
    "name": "ipython",
    "version": 3
   },
   "file_extension": ".py",
   "mimetype": "text/x-python",
   "name": "python",
   "nbconvert_exporter": "python",
   "pygments_lexer": "ipython3",
   "version": "3.6.1"
  }
 },
 "nbformat": 4,
 "nbformat_minor": 2
}
